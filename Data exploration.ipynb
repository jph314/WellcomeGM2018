{
 "cells": [
  {
   "cell_type": "code",
   "execution_count": 34,
   "metadata": {},
   "outputs": [],
   "source": [
    "import pandas as pd\n",
    "import numpy as np\n",
    "from scipy.stats import chi2_contingency\n",
    "from sklearn.tree import DecisionTreeClassifier\n",
    "from sklearn.model_selection import train_test_split\n",
    "#from graphviz import Source\n",
    "from sklearn import tree\n",
    "#Source( tree.export_graphviz(dtreg, out_file=None, feature_names=X.columns))"
   ]
  },
  {
   "cell_type": "code",
   "execution_count": 2,
   "metadata": {},
   "outputs": [
    {
     "data": {
      "text/html": [
       "<div>\n",
       "<style scoped>\n",
       "    .dataframe tbody tr th:only-of-type {\n",
       "        vertical-align: middle;\n",
       "    }\n",
       "\n",
       "    .dataframe tbody tr th {\n",
       "        vertical-align: top;\n",
       "    }\n",
       "\n",
       "    .dataframe thead th {\n",
       "        text-align: right;\n",
       "    }\n",
       "</style>\n",
       "<table border=\"1\" class=\"dataframe\">\n",
       "  <thead>\n",
       "    <tr style=\"text-align: right;\">\n",
       "      <th></th>\n",
       "      <th>WP5</th>\n",
       "      <th>wgt</th>\n",
       "      <th>PROJWT</th>\n",
       "      <th>FIELD_DATE</th>\n",
       "      <th>YEAR_CALENDAR</th>\n",
       "      <th>Q1</th>\n",
       "      <th>Q2</th>\n",
       "      <th>Q3</th>\n",
       "      <th>Q4</th>\n",
       "      <th>Q5A</th>\n",
       "      <th>...</th>\n",
       "      <th>AgeCategories</th>\n",
       "      <th>Gender</th>\n",
       "      <th>Education</th>\n",
       "      <th>Urban_Rural</th>\n",
       "      <th>Household_Income</th>\n",
       "      <th>Regions_Report</th>\n",
       "      <th>Subjective_Income</th>\n",
       "      <th>WBI</th>\n",
       "      <th>EMP_2010</th>\n",
       "      <th>id</th>\n",
       "    </tr>\n",
       "  </thead>\n",
       "  <tbody>\n",
       "    <tr>\n",
       "      <th>0</th>\n",
       "      <td>12</td>\n",
       "      <td>0.660212</td>\n",
       "      <td>35676.829222</td>\n",
       "      <td>5/1/2018</td>\n",
       "      <td>2018</td>\n",
       "      <td>3</td>\n",
       "      <td>3</td>\n",
       "      <td>1</td>\n",
       "      <td>2</td>\n",
       "      <td>1</td>\n",
       "      <td>...</td>\n",
       "      <td>3</td>\n",
       "      <td>2</td>\n",
       "      <td>1</td>\n",
       "      <td>2</td>\n",
       "      <td>2</td>\n",
       "      <td>15</td>\n",
       "      <td>2</td>\n",
       "      <td>4</td>\n",
       "      <td>2</td>\n",
       "      <td>0</td>\n",
       "    </tr>\n",
       "    <tr>\n",
       "      <th>1</th>\n",
       "      <td>12</td>\n",
       "      <td>1.454006</td>\n",
       "      <td>78572.191694</td>\n",
       "      <td>5/1/2018</td>\n",
       "      <td>2018</td>\n",
       "      <td>1</td>\n",
       "      <td>1</td>\n",
       "      <td>2</td>\n",
       "      <td>2</td>\n",
       "      <td>1</td>\n",
       "      <td>...</td>\n",
       "      <td>2</td>\n",
       "      <td>1</td>\n",
       "      <td>2</td>\n",
       "      <td>2</td>\n",
       "      <td>2</td>\n",
       "      <td>15</td>\n",
       "      <td>2</td>\n",
       "      <td>4</td>\n",
       "      <td>1</td>\n",
       "      <td>1</td>\n",
       "    </tr>\n",
       "    <tr>\n",
       "      <th>2</th>\n",
       "      <td>12</td>\n",
       "      <td>0.305742</td>\n",
       "      <td>16521.821242</td>\n",
       "      <td>5/1/2018</td>\n",
       "      <td>2018</td>\n",
       "      <td>2</td>\n",
       "      <td>3</td>\n",
       "      <td>98</td>\n",
       "      <td>98</td>\n",
       "      <td>2</td>\n",
       "      <td>...</td>\n",
       "      <td>1</td>\n",
       "      <td>1</td>\n",
       "      <td>3</td>\n",
       "      <td>2</td>\n",
       "      <td>3</td>\n",
       "      <td>15</td>\n",
       "      <td>3</td>\n",
       "      <td>4</td>\n",
       "      <td>3</td>\n",
       "      <td>2</td>\n",
       "    </tr>\n",
       "    <tr>\n",
       "      <th>3</th>\n",
       "      <td>12</td>\n",
       "      <td>0.611130</td>\n",
       "      <td>33024.522413</td>\n",
       "      <td>5/1/2018</td>\n",
       "      <td>2018</td>\n",
       "      <td>4</td>\n",
       "      <td>2</td>\n",
       "      <td>1</td>\n",
       "      <td>2</td>\n",
       "      <td>1</td>\n",
       "      <td>...</td>\n",
       "      <td>2</td>\n",
       "      <td>1</td>\n",
       "      <td>3</td>\n",
       "      <td>2</td>\n",
       "      <td>5</td>\n",
       "      <td>15</td>\n",
       "      <td>1</td>\n",
       "      <td>4</td>\n",
       "      <td>1</td>\n",
       "      <td>3</td>\n",
       "    </tr>\n",
       "    <tr>\n",
       "      <th>4</th>\n",
       "      <td>12</td>\n",
       "      <td>0.793783</td>\n",
       "      <td>42894.795054</td>\n",
       "      <td>5/1/2018</td>\n",
       "      <td>2018</td>\n",
       "      <td>2</td>\n",
       "      <td>1</td>\n",
       "      <td>1</td>\n",
       "      <td>2</td>\n",
       "      <td>1</td>\n",
       "      <td>...</td>\n",
       "      <td>1</td>\n",
       "      <td>1</td>\n",
       "      <td>3</td>\n",
       "      <td>2</td>\n",
       "      <td>1</td>\n",
       "      <td>15</td>\n",
       "      <td>2</td>\n",
       "      <td>4</td>\n",
       "      <td>1</td>\n",
       "      <td>4</td>\n",
       "    </tr>\n",
       "  </tbody>\n",
       "</table>\n",
       "<p>5 rows × 61 columns</p>\n",
       "</div>"
      ],
      "text/plain": [
       "   WP5       wgt        PROJWT FIELD_DATE  YEAR_CALENDAR  Q1  Q2  Q3  Q4  Q5A  \\\n",
       "0   12  0.660212  35676.829222   5/1/2018           2018   3   3   1   2    1   \n",
       "1   12  1.454006  78572.191694   5/1/2018           2018   1   1   2   2    1   \n",
       "2   12  0.305742  16521.821242   5/1/2018           2018   2   3  98  98    2   \n",
       "3   12  0.611130  33024.522413   5/1/2018           2018   4   2   1   2    1   \n",
       "4   12  0.793783  42894.795054   5/1/2018           2018   2   1   1   2    1   \n",
       "\n",
       "   ... AgeCategories Gender  Education  Urban_Rural  Household_Income  \\\n",
       "0  ...             3      2          1            2                 2   \n",
       "1  ...             2      1          2            2                 2   \n",
       "2  ...             1      1          3            2                 3   \n",
       "3  ...             2      1          3            2                 5   \n",
       "4  ...             1      1          3            2                 1   \n",
       "\n",
       "   Regions_Report  Subjective_Income  WBI  EMP_2010  id  \n",
       "0              15                  2    4         2   0  \n",
       "1              15                  2    4         1   1  \n",
       "2              15                  3    4         3   2  \n",
       "3              15                  1    4         1   3  \n",
       "4              15                  2    4         1   4  \n",
       "\n",
       "[5 rows x 61 columns]"
      ]
     },
     "execution_count": 2,
     "metadata": {},
     "output_type": "execute_result"
    }
   ],
   "source": [
    "df = pd.read_csv('wgm_2018_uk.csv')\n",
    "df['id'] = df.index\n",
    "df.head()"
   ]
  },
  {
   "cell_type": "code",
   "execution_count": 4,
   "metadata": {},
   "outputs": [
    {
     "name": "stdout",
     "output_type": "stream",
     "text": [
      "Q10B\n",
      "1     824.678643\n",
      "2     154.718155\n",
      "98     20.279115\n",
      "99      0.324087\n",
      "Name: wgt, dtype: float64\n",
      "Q11A\n",
      "1     532.929008\n",
      "2     346.997576\n",
      "3      76.743026\n",
      "4      29.956166\n",
      "98     13.374224\n",
      "Name: wgt, dtype: float64\n",
      "Q11B\n",
      "1     117.175653\n",
      "2     393.052672\n",
      "3     244.114663\n",
      "4     229.566563\n",
      "98     11.120957\n",
      "99      4.969491\n",
      "Name: wgt, dtype: float64\n",
      "Q11E\n",
      "1     659.692782\n",
      "2     267.970447\n",
      "3      50.502863\n",
      "4      17.278988\n",
      "98      3.098711\n",
      "99      1.456209\n",
      "Name: wgt, dtype: float64\n"
     ]
    }
   ],
   "source": [
    "#1 = yes, 2 = no, 98 = dk, 99 = refused\n",
    "#Q10B - confidence in hospitals etc\n",
    "print(df.groupby('Q10B').wgt.sum())\n",
    "#1 = a lot, 2 = some, 3 = not much, 4 = not at all, 98 = dk, 99 = refused\n",
    "#How much do you trust...?\n",
    "#Q11A neighbourhood\n",
    "print(df.groupby('Q11A').wgt.sum())\n",
    "#Q11B national government\n",
    "print(df.groupby('Q11B').wgt.sum())\n",
    "#Q11E doctors and nurses\n",
    "print(df.groupby('Q11E').wgt.sum())\n",
    "#Q11F NGOs\n",
    "#print(df.groupby('Q11F').wgt.sum())"
   ]
  },
  {
   "cell_type": "code",
   "execution_count": 5,
   "metadata": {},
   "outputs": [
    {
     "name": "stdout",
     "output_type": "stream",
     "text": [
      "Q22\n",
      "1     660.119115\n",
      "2     262.599471\n",
      "3      43.864555\n",
      "4      27.894068\n",
      "98      4.795789\n",
      "99      0.727003\n",
      "Name: wgt, dtype: float64\n",
      "Q20\n",
      "1      42.517786\n",
      "2       6.306538\n",
      "3     903.452807\n",
      "4       8.333953\n",
      "5      19.925747\n",
      "97     15.634436\n",
      "98      3.828733\n",
      "Name: wgt, dtype: float64\n"
     ]
    }
   ],
   "source": [
    "#how much do you trust doctors/nurses for medical advice?\n",
    "print(df.groupby('Q22').wgt.sum())\n",
    "#Q20 - who do you trust most for health/medical advice? 1=family/friends, 2=religious leader, 3=doctor/nurse, 4=famous person, 5='traiditional healer', 97=none/other, 98=dk 99=refused\n",
    "#print(df.groupby('Q20').wgt.count())\n",
    "#1 = a lot, 2 = some, 3 = not much, 4 = not at all, 98 = dk, 99 = refused\n",
    "#if doctor/nurse, how much do you trust their medical advice?\n",
    "#print(df[df.Q20==3].groupby('Q22').wgt.count()/1515)\n",
    "#if NOT doctor/nurse, how much do you trust their medical advice?\n",
    "#print(df[df.Q20!=3].groupby('Q22').wgt.count()/485)\n",
    "\n",
    "#Q20 - who do you trust most for health/medical advice? 1=family/friends, 2=religious leader, 3=doctor/nurse, 4=famous person, 5='traiditional healer', 97=none/other, 98=dk 99=refused\n",
    "print(df.groupby('Q20').wgt.sum())\n",
    "#1 = a lot, 2 = some, 3 = not much, 4 = not at all, 98 = dk, 99 = refused\n",
    "#if doctor/nurse, how much do you trust their medical advice?\n",
    "#print(df[df.Q20==3].groupby('Q22').wgt.sum()/1494.698709)\n",
    "#if NOT doctor/nurse, how much do you trust their medical advice?\n",
    "#print(df[df.Q20!=3].groupby('Q22').wgt.sum()/504.673230)\n",
    "#print(df[df.Q20!=3].wgt.sum())"
   ]
  },
  {
   "cell_type": "code",
   "execution_count": 6,
   "metadata": {},
   "outputs": [
    {
     "name": "stdout",
     "output_type": "stream",
     "text": [
      "2.556\n",
      "0.931\n",
      "931\n",
      "0.891\n",
      "2.57\n",
      "0.927\n"
     ]
    }
   ],
   "source": [
    "df['med_trust'] = df.apply(lambda row: 0 if row['Q22'] > 4 else 4 - row['Q22'], axis=1)\n",
    "df['med_trust_b'] = df.apply(lambda row: 1 if row['Q22'] < 3 else 0, axis=1)\n",
    "df['pref_med'] = df.apply(lambda row: 1 if row['Q20'] == 3 else 0, axis=1)\n",
    "df['med_trust_gen'] = df.apply(lambda row: 0 if row['Q11E'] > 4 else 4 - row['Q11E'], axis=1)\n",
    "df['med_trust_gen_b'] = df.apply(lambda row: 1 if row['Q11E'] < 3 else 0, axis=1)\n",
    "print(df.med_trust.mean())\n",
    "print(df.med_trust_b.mean())\n",
    "print(df.med_trust_b.sum())\n",
    "print(df.pref_med.mean())\n",
    "print(df.med_trust_gen.mean())\n",
    "print(df.med_trust_gen_b.mean())"
   ]
  },
  {
   "cell_type": "code",
   "execution_count": 7,
   "metadata": {},
   "outputs": [],
   "source": [
    "def trust_diff(a, b):\n",
    "    if a<5 and b<5:\n",
    "        return a - b\n",
    "    else:\n",
    "        return"
   ]
  },
  {
   "cell_type": "code",
   "execution_count": 8,
   "metadata": {},
   "outputs": [
    {
     "name": "stdout",
     "output_type": "stream",
     "text": [
      "Q21\n",
      "1     414.211265\n",
      "2     400.621593\n",
      "3     146.486878\n",
      "4      29.347116\n",
      "98      7.170035\n",
      "99      2.163112\n",
      "Name: wgt, dtype: float64\n",
      "Q22\n",
      "1     660.119115\n",
      "2     262.599471\n",
      "3      43.864555\n",
      "4      27.894068\n",
      "98      4.795789\n",
      "99      0.727003\n",
      "Name: wgt, dtype: float64\n",
      "Q11B\n",
      "1     117.175653\n",
      "2     393.052672\n",
      "3     244.114663\n",
      "4     229.566563\n",
      "98     11.120957\n",
      "99      4.969491\n",
      "Name: wgt, dtype: float64\n",
      "Q11E\n",
      "1     659.692782\n",
      "2     267.970447\n",
      "3      50.502863\n",
      "4      17.278988\n",
      "98      3.098711\n",
      "99      1.456209\n",
      "Name: wgt, dtype: float64\n",
      "gov_health_v_gen\n",
      "-3.0     62.165714\n",
      "-2.0    168.256303\n",
      "-1.0    359.288784\n",
      " 0.0    307.725011\n",
      " 1.0     67.346706\n",
      " 2.0      8.710175\n",
      " 3.0      2.248707\n",
      "Name: wgt, dtype: float64\n",
      "med_v_gov\n",
      "-3.0     11.804851\n",
      "-2.0     62.435967\n",
      "-1.0    251.085302\n",
      " 0.0    599.891896\n",
      " 1.0     59.392868\n",
      " 2.0      2.773656\n",
      "Name: wgt, dtype: float64\n",
      "med_v_gov_gen\n",
      "-3.0    140.735954\n",
      "-2.0    208.337673\n",
      "-1.0    361.043738\n",
      " 0.0    217.473654\n",
      " 1.0     45.824328\n",
      " 2.0      5.939286\n",
      "Name: wgt, dtype: float64\n"
     ]
    }
   ],
   "source": [
    "print(df.groupby('Q21').wgt.sum())\n",
    "print(df.groupby('Q22').wgt.sum())\n",
    "\n",
    "print(df.groupby('Q11B').wgt.sum())\n",
    "print(df.groupby('Q11E').wgt.sum())\n",
    "\n",
    "df['gov_health_v_gen'] = df.apply(lambda row: trust_diff(row['Q21'], row['Q11B']), axis=1)\n",
    "print(df.groupby('gov_health_v_gen').wgt.sum())\n",
    "df['med_v_gov'] = df.apply(lambda row: trust_diff(row['Q22'], row['Q21']), axis=1)\n",
    "print(df.groupby('med_v_gov').wgt.sum())\n",
    "df['med_v_gov_gen'] = df.apply(lambda row: trust_diff(row['Q11E'], row['Q11B']), axis=1)\n",
    "print(df.groupby('med_v_gov_gen').wgt.sum())"
   ]
  },
  {
   "cell_type": "code",
   "execution_count": 9,
   "metadata": {},
   "outputs": [
    {
     "name": "stdout",
     "output_type": "stream",
     "text": [
      "Subjective_Income\n",
      "      12.289031\n",
      "1    408.913177\n",
      "2    417.738902\n",
      "3    161.058891\n",
      "Name: wgt, dtype: float64\n",
      "Subjective_Income  med_v_gov_gen\n",
      "                   -3.0             0.398282\n",
      "                   -1.0             0.118497\n",
      "                    0.0             0.288071\n",
      "1                  -3.0             0.131231\n",
      "                   -2.0             0.171164\n",
      "                   -1.0             0.398251\n",
      "                    0.0             0.244890\n",
      "                    1.0             0.037833\n",
      "                    2.0             0.005822\n",
      "2                  -3.0             0.128252\n",
      "                   -2.0             0.207629\n",
      "                   -1.0             0.363986\n",
      "                    0.0             0.215630\n",
      "                    1.0             0.056019\n",
      "                    2.0             0.003723\n",
      "3                  -3.0             0.177597\n",
      "                   -2.0             0.320452\n",
      "                   -1.0             0.277453\n",
      "                    0.0             0.147262\n",
      "                    1.0             0.043168\n",
      "                    2.0             0.012439\n",
      "Name: wgt, dtype: float64\n",
      "EMP_2010\n",
      "1    364.619352\n",
      "2     78.567424\n",
      "3     81.419268\n",
      "4     42.307836\n",
      "5     52.012507\n",
      "6    381.073613\n",
      "Name: wgt, dtype: float64\n",
      "EMP_2010  med_v_gov_gen\n",
      "1         -3.0             0.136717\n",
      "          -2.0             0.209532\n",
      "          -1.0             0.396113\n",
      "           0.0             0.182508\n",
      "           1.0             0.053479\n",
      "           2.0             0.004044\n",
      "2         -3.0             0.130499\n",
      "          -2.0             0.227458\n",
      "          -1.0             0.303502\n",
      "           0.0             0.234356\n",
      "           1.0             0.088304\n",
      "           2.0             0.003891\n",
      "3         -3.0             0.115414\n",
      "          -2.0             0.199981\n",
      "          -1.0             0.406174\n",
      "           0.0             0.251011\n",
      "           1.0             0.011166\n",
      "           2.0             0.016255\n",
      "4         -3.0             0.227805\n",
      "          -2.0             0.290793\n",
      "          -1.0             0.253444\n",
      "           0.0             0.112447\n",
      "           1.0             0.020328\n",
      "5         -3.0             0.130365\n",
      "          -2.0             0.195649\n",
      "          -1.0             0.392703\n",
      "           0.0             0.213779\n",
      "           1.0             0.067504\n",
      "6         -3.0             0.143851\n",
      "          -2.0             0.197616\n",
      "          -1.0             0.337335\n",
      "           0.0             0.252448\n",
      "           1.0             0.037018\n",
      "           2.0             0.007441\n",
      "Name: wgt, dtype: float64\n",
      "Urban_Rural\n",
      "       2.567845\n",
      "1    556.321250\n",
      "2    441.110905\n",
      "Name: wgt, dtype: float64\n",
      "Urban_Rural  med_v_gov_gen\n",
      "             -3.0             1.000000\n",
      "1            -3.0             0.125466\n",
      "             -2.0             0.222851\n",
      "             -1.0             0.368380\n",
      "              0.0             0.221915\n",
      "              1.0             0.033358\n",
      "              2.0             0.009454\n",
      "2            -3.0             0.154992\n",
      "             -2.0             0.191247\n",
      "             -1.0             0.353893\n",
      "              0.0             0.213138\n",
      "              1.0             0.061814\n",
      "              2.0             0.001542\n",
      "Name: wgt, dtype: float64\n",
      "AgeCategories\n",
      "       9.008966\n",
      "1    221.913762\n",
      "2    322.264697\n",
      "3    446.812574\n",
      "Name: wgt, dtype: float64\n",
      "AgeCategories  med_v_gov_gen\n",
      "               -3.0             0.390446\n",
      "               -2.0             0.094931\n",
      "               -1.0             0.410463\n",
      "                0.0             0.104160\n",
      "1              -3.0             0.084550\n",
      "               -2.0             0.216909\n",
      "               -1.0             0.493003\n",
      "                0.0             0.145580\n",
      "                1.0             0.034959\n",
      "                2.0             0.007342\n",
      "2              -3.0             0.119299\n",
      "               -2.0             0.216552\n",
      "               -1.0             0.387397\n",
      "                0.0             0.193862\n",
      "                1.0             0.054881\n",
      "                2.0             0.004575\n",
      "3              -3.0             0.179067\n",
      "               -2.0             0.200443\n",
      "               -1.0             0.275501\n",
      "                0.0             0.272495\n",
      "                1.0             0.045612\n",
      "                2.0             0.006346\n",
      "Name: wgt, dtype: float64\n",
      "Education\n",
      "      11.996095\n",
      "1    161.174293\n",
      "2    536.361189\n",
      "3    290.468423\n",
      "Name: wgt, dtype: float64\n",
      "Education  med_v_gov_gen\n",
      "           -3.0             0.065976\n",
      "           -1.0             0.590167\n",
      "            0.0             0.196776\n",
      "1          -3.0             0.118223\n",
      "           -2.0             0.220227\n",
      "           -1.0             0.287870\n",
      "            0.0             0.284035\n",
      "            1.0             0.067642\n",
      "            2.0             0.004219\n",
      "2          -3.0             0.142603\n",
      "           -2.0             0.201031\n",
      "           -1.0             0.384902\n",
      "            0.0             0.209064\n",
      "            1.0             0.035604\n",
      "            2.0             0.004113\n",
      "3          -3.0             0.152868\n",
      "           -2.0             0.223837\n",
      "           -1.0             0.348129\n",
      "            0.0             0.196925\n",
      "            1.0             0.054484\n",
      "            2.0             0.010511\n",
      "Name: wgt, dtype: float64\n",
      "D1\n",
      "1     688.353742\n",
      "2     287.656417\n",
      "99     23.989841\n",
      "Name: wgt, dtype: float64\n",
      "D1  med_v_gov_gen\n",
      "1   -3.0             0.134081\n",
      "    -2.0             0.208311\n",
      "    -1.0             0.352713\n",
      "     0.0             0.229091\n",
      "     1.0             0.047994\n",
      "     2.0             0.008628\n",
      "2   -3.0             0.165871\n",
      "    -2.0             0.220362\n",
      "    -1.0             0.374844\n",
      "     0.0             0.180747\n",
      "     1.0             0.040807\n",
      "99  -3.0             0.030305\n",
      "    -2.0             0.064934\n",
      "    -1.0             0.434608\n",
      "     0.0             0.324519\n",
      "     1.0             0.043741\n",
      "Name: wgt, dtype: float64\n"
     ]
    }
   ],
   "source": [
    "#trust by subjective income\n",
    "print(df.groupby('Subjective_Income').wgt.sum())\n",
    "print(df.groupby(['Subjective_Income', 'med_v_gov_gen']).wgt.sum()/df.groupby('Subjective_Income').wgt.sum())\n",
    "\n",
    "#trust by employment status\n",
    "print(df.groupby('EMP_2010').wgt.sum())\n",
    "print(df.groupby(['EMP_2010', 'med_v_gov_gen']).wgt.sum()/df.groupby('EMP_2010').wgt.sum())\n",
    "\n",
    "#trust by urban_rural\n",
    "print(df.groupby('Urban_Rural').wgt.sum())\n",
    "print(df.groupby(['Urban_Rural', 'med_v_gov_gen']).wgt.sum()/df.groupby('Urban_Rural').wgt.sum())\n",
    "\n",
    "#trust by age cohort\n",
    "print(df.groupby('AgeCategories').wgt.sum())\n",
    "print(df.groupby(['AgeCategories', 'med_v_gov_gen']).wgt.sum()/df.groupby('AgeCategories').wgt.sum())\n",
    "\n",
    "#trust by education\n",
    "print(df.groupby('Education').wgt.sum())\n",
    "print(df.groupby(['Education', 'med_v_gov_gen']).wgt.sum()/df.groupby('Education').wgt.sum())\n",
    "\n",
    "#religion\n",
    "print(df.groupby('D1').wgt.sum())\n",
    "print(df.groupby(['D1', 'med_v_gov_gen']).wgt.sum()/df.groupby('D1').wgt.sum())"
   ]
  },
  {
   "cell_type": "code",
   "execution_count": 9,
   "metadata": {},
   "outputs": [],
   "source": [
    "#independence of trust variables\n",
    "#gov health and gov general"
   ]
  },
  {
   "cell_type": "code",
   "execution_count": 10,
   "metadata": {},
   "outputs": [
    {
     "name": "stdout",
     "output_type": "stream",
     "text": [
      "4.033679500375618e-06\n"
     ]
    }
   ],
   "source": [
    "inc_trust = df.groupby(['Subjective_Income', 'Q11B']).wgt.sum().reset_index()\n",
    "#print(inc_trust)\n",
    "inc_trust = inc_trust.pivot(columns='Q11B', index='Subjective_Income', values='wgt')\n",
    "inc_trust = inc_trust.iloc[[1,2,3],[0,1,2,3]]\n",
    "#print(inc_trust)\n",
    "stat, p, dof, ex = chi2_contingency(inc_trust)\n",
    "print(p)"
   ]
  },
  {
   "cell_type": "code",
   "execution_count": 11,
   "metadata": {},
   "outputs": [
    {
     "name": "stdout",
     "output_type": "stream",
     "text": [
      "Q11B                      1         2         3         4\n",
      "Subjective_Income                                        \n",
      "1                  0.147829  0.443724  0.227631  0.170007\n",
      "2                  0.109419  0.384737  0.259009  0.227236\n",
      "3                  0.057736  0.304653  0.247876  0.368106\n"
     ]
    }
   ],
   "source": [
    "inc_trust = (df.groupby(['Subjective_Income', 'Q11B']).wgt.sum()/df.groupby('Subjective_Income').wgt.sum()).reset_index()\n",
    "inc_trust = inc_trust.pivot(columns='Q11B', index='Subjective_Income', values='wgt')\n",
    "inc_trust = inc_trust.iloc[[1,2,3],[0,1,2,3]]\n",
    "print(inc_trust)"
   ]
  },
  {
   "cell_type": "code",
   "execution_count": 14,
   "metadata": {},
   "outputs": [
    {
     "name": "stdout",
     "output_type": "stream",
     "text": [
      "1.8557781410199313e-07\n"
     ]
    }
   ],
   "source": [
    "inc_trust = df.groupby(['Subjective_Income', 'Q21']).wgt.sum().reset_index()\n",
    "#print(inc_trust)\n",
    "inc_trust = inc_trust.pivot(columns='Q21', index='Subjective_Income', values='wgt')\n",
    "inc_trust = inc_trust.iloc[[1,2,3],[0,1,2,3]]\n",
    "#print(inc_trust)\n",
    "stat, p, dof, ex = chi2_contingency(inc_trust)\n",
    "print(p)"
   ]
  },
  {
   "cell_type": "code",
   "execution_count": 15,
   "metadata": {},
   "outputs": [
    {
     "name": "stdout",
     "output_type": "stream",
     "text": [
      "Q21                       1         2         3         4\n",
      "Subjective_Income                                        \n",
      "1                  0.492078  0.380133  0.090487  0.029209\n",
      "2                  0.400138  0.414273  0.158348  0.019950\n",
      "3                  0.254850  0.427451  0.242898  0.056311\n"
     ]
    }
   ],
   "source": [
    "inc_trust = (df.groupby(['Subjective_Income', 'Q21']).wgt.sum()/df.groupby('Subjective_Income').wgt.sum()).reset_index()\n",
    "inc_trust = inc_trust.pivot(columns='Q21', index='Subjective_Income', values='wgt')\n",
    "inc_trust = inc_trust.iloc[[1,2,3],[0,1,2,3]]\n",
    "print(inc_trust)"
   ]
  },
  {
   "cell_type": "code",
   "execution_count": 16,
   "metadata": {},
   "outputs": [
    {
     "name": "stdout",
     "output_type": "stream",
     "text": [
      "0.8890964169819993\n"
     ]
    }
   ],
   "source": [
    "urb_trust = df.groupby(['Urban_Rural', 'Q11B']).wgt.sum().reset_index()\n",
    "#print(urb_trust)\n",
    "urb_trust = urb_trust.pivot(columns='Q11B', index='Urban_Rural', values='wgt')\n",
    "#print(urb_trust)\n",
    "urb_trust = urb_trust.iloc[[1,2],[0,1,2,3]]\n",
    "#print(urb_trust)\n",
    "stat, p, dof, ex = chi2_contingency(urb_trust)\n",
    "print(p)"
   ]
  },
  {
   "cell_type": "code",
   "execution_count": 17,
   "metadata": {},
   "outputs": [
    {
     "name": "stdout",
     "output_type": "stream",
     "text": [
      "0.7316684196913086\n"
     ]
    }
   ],
   "source": [
    "urb_trust = df.groupby(['Urban_Rural', 'Q21']).wgt.sum().reset_index()\n",
    "#print(urb_trust)\n",
    "urb_trust = urb_trust.pivot(columns='Q21', index='Urban_Rural', values='wgt')\n",
    "#print(urb_trust)\n",
    "urb_trust = urb_trust.iloc[[1,2],[0,1,2,3]]\n",
    "#print(urb_trust)\n",
    "stat, p, dof, ex = chi2_contingency(urb_trust)\n",
    "print(p)"
   ]
  },
  {
   "cell_type": "code",
   "execution_count": 18,
   "metadata": {},
   "outputs": [
    {
     "name": "stdout",
     "output_type": "stream",
     "text": [
      "Q11B                1         2         3         4\n",
      "Urban_Rural                                        \n",
      "1            0.113908  0.404657  0.248120  0.222926\n",
      "2            0.121978  0.380705  0.240484  0.233457\n"
     ]
    }
   ],
   "source": [
    "urb_trust = (df.groupby(['Urban_Rural', 'Q11B']).wgt.sum()/df.groupby('Urban_Rural').wgt.sum()).reset_index()\n",
    "#print(urb_trust)\n",
    "urb_trust = urb_trust.pivot(columns='Q11B', index='Urban_Rural', values='wgt')\n",
    "#print(urb_trust)\n",
    "urb_trust = urb_trust.iloc[[1,2],[0,1,2,3]]\n",
    "print(urb_trust)"
   ]
  },
  {
   "cell_type": "code",
   "execution_count": 19,
   "metadata": {},
   "outputs": [
    {
     "name": "stdout",
     "output_type": "stream",
     "text": [
      "0.005010191297451153\n"
     ]
    }
   ],
   "source": [
    "ed_trust = df.groupby(['Education', 'Q11B']).wgt.sum().reset_index()\n",
    "#print(ed_trust)\n",
    "ed_trust = ed_trust.pivot(columns='Q11B', index='Education', values='wgt')\n",
    "ed_trust = ed_trust.iloc[[1,2,3],[0,1,2,3]]\n",
    "#print(ed_trust)\n",
    "stat, p, dof, ex = chi2_contingency(ed_trust)\n",
    "print(p)"
   ]
  },
  {
   "cell_type": "code",
   "execution_count": 20,
   "metadata": {},
   "outputs": [
    {
     "name": "stdout",
     "output_type": "stream",
     "text": [
      "0.42717200090150476\n"
     ]
    }
   ],
   "source": [
    "ed_trust = df.groupby(['Education', 'Q21']).wgt.sum().reset_index()\n",
    "#print(ed_trust)\n",
    "ed_trust = ed_trust.pivot(columns='Q21', index='Education', values='wgt')\n",
    "ed_trust = ed_trust.iloc[[1,2,3],[0,1,2,3]]\n",
    "#print(ed_trust)\n",
    "stat, p, dof, ex = chi2_contingency(ed_trust)\n",
    "print(p)"
   ]
  },
  {
   "cell_type": "code",
   "execution_count": 21,
   "metadata": {},
   "outputs": [
    {
     "name": "stdout",
     "output_type": "stream",
     "text": [
      "0.00011406980149598103\n"
     ]
    }
   ],
   "source": [
    "age_trust = df.groupby(['AgeCategories', 'Q11B']).wgt.sum().reset_index()\n",
    "#print(age_trust)\n",
    "age_trust = age_trust.pivot(columns='Q11B', index='AgeCategories', values='wgt')\n",
    "age_trust = age_trust.iloc[[1,2,3],[0,1,2,3]]\n",
    "#print(inc_trust)\n",
    "stat, p, dof, ex = chi2_contingency(age_trust)\n",
    "print(p)"
   ]
  },
  {
   "cell_type": "code",
   "execution_count": 22,
   "metadata": {},
   "outputs": [
    {
     "name": "stdout",
     "output_type": "stream",
     "text": [
      "0.011676777552249768\n"
     ]
    }
   ],
   "source": [
    "age_trust = df.groupby(['AgeCategories', 'Q21']).wgt.sum().reset_index()\n",
    "#print(age_trust)\n",
    "age_trust = age_trust.pivot(columns='Q21', index='AgeCategories', values='wgt')\n",
    "age_trust = age_trust.iloc[[1,2,3],[0,1,2,3]]\n",
    "#print(inc_trust)\n",
    "stat, p, dof, ex = chi2_contingency(age_trust)\n",
    "print(p)"
   ]
  },
  {
   "cell_type": "code",
   "execution_count": 23,
   "metadata": {},
   "outputs": [
    {
     "name": "stdout",
     "output_type": "stream",
     "text": [
      "Q11B                  1         2         3         4\n",
      "AgeCategories                                        \n",
      "1              0.079362  0.458762  0.295548  0.152426\n",
      "2              0.103003  0.400737  0.269304  0.212148\n",
      "3              0.148540  0.352424  0.205324  0.275285\n"
     ]
    }
   ],
   "source": [
    "age_trust = (df.groupby(['AgeCategories', 'Q11B']).wgt.sum()/df.groupby('AgeCategories').wgt.sum()).reset_index()\n",
    "age_trust = age_trust.pivot(columns='Q11B', index='AgeCategories', values='wgt')\n",
    "age_trust = age_trust.iloc[[1,2,3],[0,1,2,3]]\n",
    "print(age_trust)"
   ]
  },
  {
   "cell_type": "code",
   "execution_count": 24,
   "metadata": {},
   "outputs": [
    {
     "name": "stdout",
     "output_type": "stream",
     "text": [
      "0.018287095267608678\n"
     ]
    }
   ],
   "source": [
    "emp_trust = df.groupby(['EMP_2010', 'Q11B']).wgt.sum().reset_index()\n",
    "emp_trust = emp_trust.pivot(columns='Q11B', index='EMP_2010', values='wgt')\n",
    "#print(emp_trust)\n",
    "emp_trust = emp_trust.iloc[[0,1,2,3,4,5],[0,1,2,3]]\n",
    "#print(emp_trust)\n",
    "stat, p, dof, ex = chi2_contingency(emp_trust)\n",
    "print(p)"
   ]
  },
  {
   "cell_type": "code",
   "execution_count": 25,
   "metadata": {},
   "outputs": [
    {
     "name": "stdout",
     "output_type": "stream",
     "text": [
      "4.1737248918632096e-05\n"
     ]
    }
   ],
   "source": [
    "emp_trust = df.groupby(['EMP_2010', 'Q21']).wgt.sum().reset_index()\n",
    "emp_trust = emp_trust.pivot(columns='Q21', index='EMP_2010', values='wgt')\n",
    "#print(emp_trust)\n",
    "emp_trust = emp_trust.iloc[[0,1,2,3,4,5],[0,1,2,3]]\n",
    "#print(emp_trust)\n",
    "stat, p, dof, ex = chi2_contingency(emp_trust)\n",
    "print(p)"
   ]
  },
  {
   "cell_type": "code",
   "execution_count": 26,
   "metadata": {
    "scrolled": true
   },
   "outputs": [
    {
     "name": "stdout",
     "output_type": "stream",
     "text": [
      "Q21              1         2         3         4\n",
      "EMP_2010                                        \n",
      "1         0.429770  0.405145  0.125830  0.029283\n",
      "2         0.347746  0.435500  0.151438  0.065317\n",
      "3         0.388467  0.403816  0.189112  0.018605\n",
      "4         0.203923  0.341318  0.348049  0.053503\n",
      "5         0.361644  0.282458  0.339722  0.016176\n",
      "6         0.449050  0.411132  0.107371  0.023404\n"
     ]
    }
   ],
   "source": [
    "emp_trust = (df.groupby(['EMP_2010', 'Q21']).wgt.sum()/df.groupby('EMP_2010').wgt.sum()).reset_index()\n",
    "emp_trust = emp_trust.pivot(columns='Q21', index='EMP_2010', values='wgt')\n",
    "emp_trust = emp_trust.iloc[[0,1,2,3,4,5],[0,1,2,3]]\n",
    "print(emp_trust)"
   ]
  },
  {
   "cell_type": "code",
   "execution_count": 34,
   "metadata": {},
   "outputs": [
    {
     "name": "stdout",
     "output_type": "stream",
     "text": [
      "0.03619269476915903\n"
     ]
    }
   ],
   "source": [
    "rel_trust = df.groupby(['D1', 'Q11B']).wgt.sum().reset_index()\n",
    "rel_trust = rel_trust.pivot(columns='Q11B', index='D1', values='wgt')\n",
    "#print(rel_trust)\n",
    "rel_trust = rel_trust.iloc[[0,1],[0,1,2,3]]\n",
    "#print(rel_trust)\n",
    "stat, p, dof, ex = chi2_contingency(rel_trust)\n",
    "print(p)"
   ]
  },
  {
   "cell_type": "code",
   "execution_count": 36,
   "metadata": {},
   "outputs": [
    {
     "name": "stdout",
     "output_type": "stream",
     "text": [
      "Q11B         1         2         3         4\n",
      "D1                                          \n",
      "1     0.130858  0.404853  0.235892  0.212699\n",
      "2     0.087846  0.357457  0.272877  0.271947\n"
     ]
    }
   ],
   "source": [
    "rel_trust = (df.groupby(['D1', 'Q11B']).wgt.sum()/df.groupby('D1').wgt.sum()).reset_index()\n",
    "rel_trust = rel_trust.pivot(columns='Q11B', index='D1', values='wgt')\n",
    "rel_trust = rel_trust.iloc[[0,1],[0,1,2,3]]\n",
    "print(rel_trust)"
   ]
  },
  {
   "cell_type": "code",
   "execution_count": 35,
   "metadata": {
    "scrolled": true
   },
   "outputs": [
    {
     "name": "stdout",
     "output_type": "stream",
     "text": [
      "0.20941816452882592\n"
     ]
    }
   ],
   "source": [
    "rel_trust = df.groupby(['D1', 'Q21']).wgt.sum().reset_index()\n",
    "rel_trust = rel_trust.pivot(columns='Q21', index='D1', values='wgt')\n",
    "#print(rel_trust)\n",
    "rel_trust = rel_trust.iloc[[0,1],[0,1,2,3]]\n",
    "#print(rel_trust)\n",
    "stat, p, dof, ex = chi2_contingency(rel_trust)\n",
    "print(p)"
   ]
  },
  {
   "cell_type": "markdown",
   "metadata": {},
   "source": [
    "# Trust me, I'm from the government\n",
    "#1 assess trust in government and medics (general and for health advice)\n",
    "#2 compare\n",
    "#3 which variables have an effect\n",
    "#4 model trust vs multiple variables\n",
    "#5 which specific demographics are more/less trusting\n",
    "#6 discussion"
   ]
  },
  {
   "cell_type": "code",
   "execution_count": 18,
   "metadata": {},
   "outputs": [],
   "source": [
    "dtree = tree.DecisionTreeClassifier(max_depth=6)"
   ]
  },
  {
   "cell_type": "code",
   "execution_count": 4,
   "metadata": {},
   "outputs": [],
   "source": [
    "vars = df[['Subjective_Income', 'EMP_2010', 'AgeCategories', 'Education', 'D1', 'Q21']]"
   ]
  },
  {
   "cell_type": "code",
   "execution_count": 5,
   "metadata": {},
   "outputs": [
    {
     "name": "stdout",
     "output_type": "stream",
     "text": [
      "D1\n",
      "1     660\n",
      "2     294\n",
      "99     22\n",
      "Name: Q21, dtype: int64\n",
      "D1\n",
      "1    657\n",
      "2    288\n",
      "Name: Q21, dtype: int64\n"
     ]
    }
   ],
   "source": [
    "vars = vars.apply(pd.to_numeric, errors='coerce').dropna()\n",
    "varsk = vars[(vars < 90).all(1)]\n",
    "X = varsk[['Subjective_Income', 'EMP_2010', 'AgeCategories', 'Education', 'D1']]\n",
    "y = varsk['Q21']\n",
    "print(vars.groupby('D1').Q21.count())\n",
    "print(varsk.groupby('D1').Q21.count())"
   ]
  },
  {
   "cell_type": "code",
   "execution_count": 19,
   "metadata": {
    "scrolled": true
   },
   "outputs": [
    {
     "data": {
      "text/plain": [
       "DecisionTreeClassifier(class_weight=None, criterion='gini', max_depth=6,\n",
       "                       max_features=None, max_leaf_nodes=None,\n",
       "                       min_impurity_decrease=0.0, min_impurity_split=None,\n",
       "                       min_samples_leaf=1, min_samples_split=2,\n",
       "                       min_weight_fraction_leaf=0.0, presort=False,\n",
       "                       random_state=None, splitter='best')"
      ]
     },
     "execution_count": 19,
     "metadata": {},
     "output_type": "execute_result"
    }
   ],
   "source": [
    "dtree.fit(X, y)"
   ]
  },
  {
   "cell_type": "code",
   "execution_count": 21,
   "metadata": {},
   "outputs": [
    {
     "name": "stdout",
     "output_type": "stream",
     "text": [
      "[2 1 2 1 2 1]\n",
      "[1]\n",
      "[2]\n",
      "[1]\n",
      "[2]\n",
      "[1]\n",
      "[2]\n",
      "[1]\n",
      "[2]\n",
      "[2]\n",
      "[2]\n",
      "[2]\n",
      "[[0.16666667 0.66666667 0.         0.16666667]\n",
      " [0.6        0.32       0.04       0.04      ]\n",
      " [0.36842105 0.47368421 0.10526316 0.05263158]\n",
      " [0.6        0.32       0.04       0.04      ]\n",
      " [0.16666667 0.66666667 0.         0.16666667]\n",
      " [0.45555556 0.43333333 0.08888889 0.02222222]]\n",
      "[[0.6  0.32 0.04 0.04]]\n",
      "[[0.36842105 0.47368421 0.10526316 0.05263158]]\n",
      "[[0.6  0.32 0.04 0.04]]\n",
      "[[0.16666667 0.66666667 0.         0.16666667]]\n",
      "[[0.45555556 0.43333333 0.08888889 0.02222222]]\n",
      "[[0.36842105 0.47368421 0.10526316 0.05263158]]\n",
      "[[0.45555556 0.43333333 0.08888889 0.02222222]]\n",
      "[[0.125 0.875 0.    0.   ]]\n",
      "[[0.45454545 0.54545455 0.         0.        ]]\n",
      "[[0.125 0.875 0.    0.   ]]\n",
      "[[0.45454545 0.54545455 0.         0.        ]]\n"
     ]
    }
   ],
   "source": [
    "test1 = [[3, 2, 2, 2, 1], [1, 2, 2, 2, 1], [3, 1, 2, 2, 1], [1, 1, 2, 2, 1], [3, 2, 2, 3, 1], [1, 2, 2, 3, 1]]\n",
    "test2 = [[1, 2, 2, 2, 1]]\n",
    "test3 = [[3, 1, 2, 2, 1]]\n",
    "test4 = [[1, 1, 2, 2, 1]]\n",
    "test5 = [[3, 2, 2, 3, 1]]\n",
    "test6 = [[1, 2, 2, 3, 1]]\n",
    "test7 = [[3, 1, 2, 3, 1]]\n",
    "test8 = [[1, 1, 2, 3, 1]]\n",
    "test9 = [[3, 2, 2, 2, 2]]\n",
    "test10 = [[1, 2, 2, 2, 2]]\n",
    "test11 = [[3, 1, 2, 2, 2]]\n",
    "test12 = [[1, 1, 2, 2, 2]]\n",
    "print(dtree.predict(test1))\n",
    "print(dtree.predict(test2))\n",
    "print(dtree.predict(test3))\n",
    "print(dtree.predict(test4))\n",
    "print(dtree.predict(test5))\n",
    "print(dtree.predict(test6))\n",
    "print(dtree.predict(test7))\n",
    "print(dtree.predict(test8))\n",
    "print(dtree.predict(test9))\n",
    "print(dtree.predict(test10))\n",
    "print(dtree.predict(test11))\n",
    "print(dtree.predict(test12))\n",
    "print(dtree.predict_proba(test1))\n",
    "print(dtree.predict_proba(test2))\n",
    "print(dtree.predict_proba(test3))\n",
    "print(dtree.predict_proba(test4))\n",
    "print(dtree.predict_proba(test5))\n",
    "print(dtree.predict_proba(test6))\n",
    "print(dtree.predict_proba(test7))\n",
    "print(dtree.predict_proba(test8))\n",
    "print(dtree.predict_proba(test9))\n",
    "print(dtree.predict_proba(test10))\n",
    "print(dtree.predict_proba(test11))\n",
    "print(dtree.predict_proba(test12))"
   ]
  },
  {
   "cell_type": "code",
   "execution_count": 22,
   "metadata": {},
   "outputs": [
    {
     "name": "stdout",
     "output_type": "stream",
     "text": [
      "[1.83333333 2.48       2.15789474 2.48       1.83333333 2.32222222]\n",
      "[2.125]\n"
     ]
    }
   ],
   "source": [
    "trust_score = [3, 2, 1, 0]\n",
    "test_score = dtree.predict_proba(test1).dot(trust_score)\n",
    "print(test_score)\n",
    "test_score12 = dtree.predict_proba(test11).dot(trust_score)\n",
    "print(test_score12)"
   ]
  },
  {
   "cell_type": "code",
   "execution_count": 35,
   "metadata": {},
   "outputs": [
    {
     "name": "stdout",
     "output_type": "stream",
     "text": [
      "[[1, 1, 1], [1, 1, 2], [1, 1, 3], [1, 2, 1], [1, 2, 2], [1, 2, 3], [1, 3, 1], [1, 3, 2], [1, 3, 3], [1, 4, 1], [1, 4, 2], [1, 4, 3], [1, 5, 1], [1, 5, 2], [1, 5, 3], [1, 6, 1], [1, 6, 2], [1, 6, 3], [2, 1, 1], [2, 1, 2], [2, 1, 3], [2, 2, 1], [2, 2, 2], [2, 2, 3], [2, 3, 1], [2, 3, 2], [2, 3, 3], [2, 4, 1], [2, 4, 2], [2, 4, 3], [2, 5, 1], [2, 5, 2], [2, 5, 3], [2, 6, 1], [2, 6, 2], [2, 6, 3], [3, 1, 1], [3, 1, 2], [3, 1, 3], [3, 2, 1], [3, 2, 2], [3, 2, 3], [3, 3, 1], [3, 3, 2], [3, 3, 3], [3, 4, 1], [3, 4, 2], [3, 4, 3], [3, 5, 1], [3, 5, 2], [3, 5, 3], [3, 6, 1], [3, 6, 2], [3, 6, 3]]\n"
     ]
    }
   ],
   "source": [
    "inc = [1,2,3]\n",
    "emp = [1,2,3,4,5,6]\n",
    "age = [1,2,3]\n",
    "ed = 3\n",
    "rel = 2\n",
    "\n",
    "all_demographics = []\n",
    "\n",
    "for i in inc:\n",
    "    for e in emp:\n",
    "        for a in age:\n",
    "            newarr = [i, e, a]\n",
    "            all_demographics.append(newarr)\n",
    "\n",
    "print(all_demographics)"
   ]
  },
  {
   "cell_type": "code",
   "execution_count": 14,
   "metadata": {},
   "outputs": [],
   "source": [
    "dotfile = open(\"dtree2.dot\", 'w')\n",
    "tree.export_graphviz(dtree, out_file = dotfile, feature_names = X.columns)\n",
    "dotfile.close()"
   ]
  },
  {
   "cell_type": "code",
   "execution_count": 37,
   "metadata": {},
   "outputs": [],
   "source": [
    "def trust_outcome(response):\n",
    "    trust_score = np.array([3, 2, 1, 0])\n",
    "    score = response[0].dot(trust_score)\n",
    "    gini_imp = 0\n",
    "    for i in range(4):\n",
    "        gini_imp += response[0][i]**2\n",
    "    return [gini_imp, score]"
   ]
  },
  {
   "cell_type": "code",
   "execution_count": 41,
   "metadata": {},
   "outputs": [
    {
     "name": "stdout",
     "output_type": "stream",
     "text": [
      "[0.625, 2.25]\n",
      "[0.25, 1.5]\n",
      "[1, 2]\n",
      "[0.625, 0.25]\n"
     ]
    }
   ],
   "source": [
    "test = pd.DataFrame([0.25, 0.75, 0, 0])\n",
    "print(trust_outcome(test))\n",
    "test = pd.DataFrame([0.25, 0.25, 0.25, 0.25])\n",
    "print(trust_outcome(test))\n",
    "test = pd.DataFrame([0, 1, 0, 0])\n",
    "print(trust_outcome(test))\n",
    "test = pd.DataFrame([0, 0, 0.25, 0.75])\n",
    "print(trust_outcome(test))"
   ]
  },
  {
   "cell_type": "code",
   "execution_count": 53,
   "metadata": {},
   "outputs": [
    {
     "name": "stdout",
     "output_type": "stream",
     "text": [
      "      0\n",
      "0  0.00\n",
      "1  0.00\n",
      "2  0.25\n",
      "3  0.75\n"
     ]
    }
   ],
   "source": [
    "print(test)"
   ]
  },
  {
   "cell_type": "code",
   "execution_count": 52,
   "metadata": {},
   "outputs": [
    {
     "name": "stdout",
     "output_type": "stream",
     "text": [
      "[0.39568291862300004, 2.326987]\n",
      "[0.357204629177, 2.187308]\n",
      "[0.30983324702600007, 1.8623500000000002]\n",
      "   Inc Emp Age Ed Rel Score\n",
      "0    1                     \n",
      "1    2                 None\n",
      "2    3                 None\n"
     ]
    }
   ],
   "source": [
    "inc_1 = pd.DataFrame([0.492078, 0.380133, 0.090487, 0.029209])\n",
    "inc_2 = pd.DataFrame([0.400138, 0.414273, 0.158348, 0.019950])\n",
    "inc_3 = pd.DataFrame([0.254850, 0.427451, 0.242898, 0.056311])\n",
    "print(trust_outcome(inc_1))\n",
    "print(trust_outcome(inc_2))\n",
    "print(trust_outcome(inc_3))\n",
    "print(pd.DataFrame([[1,'','','','',''], [2,'','','',''], [3,'','','','']], columns=['Inc', 'Emp', 'Age', 'Ed', 'Rel', 'Score']))"
   ]
  }
 ],
 "metadata": {
  "kernelspec": {
   "display_name": "Python 3",
   "language": "python",
   "name": "python3"
  },
  "language_info": {
   "codemirror_mode": {
    "name": "ipython",
    "version": 3
   },
   "file_extension": ".py",
   "mimetype": "text/x-python",
   "name": "python",
   "nbconvert_exporter": "python",
   "pygments_lexer": "ipython3",
   "version": "3.7.3"
  }
 },
 "nbformat": 4,
 "nbformat_minor": 2
}
